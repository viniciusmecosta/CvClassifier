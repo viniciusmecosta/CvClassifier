{
 "cells": [
  {
   "cell_type": "code",
   "execution_count": 18,
   "metadata": {},
   "outputs": [],
   "source": [
    "import spacy\n",
    "import pandas as pd"
   ]
  },
  {
   "cell_type": "code",
   "execution_count": null,
   "metadata": {},
   "outputs": [],
   "source": []
  },
  {
   "cell_type": "code",
   "execution_count": 19,
   "metadata": {},
   "outputs": [],
   "source": [
    "nlp = spacy.load(\"en_core_web_lg\")\n"
   ]
  },
  {
   "cell_type": "code",
   "execution_count": 20,
   "metadata": {},
   "outputs": [],
   "source": [
    "class_mapping = {\n",
    "    'ACCOUNTANT': 0,\n",
    "    'ADVOCATE': 1,\n",
    "    'AGRICULTURE': 2,\n",
    "    'APPAREL': 3,\n",
    "    'ARTS': 4,\n",
    "    'AUTOMOBILE': 5,\n",
    "    'AVIATION': 6,\n",
    "    'BANKING': 7,\n",
    "    'BPO': 8,\n",
    "    'BUSINESS-DEVELOPMENT': 9,\n",
    "    'CHEF': 10,\n",
    "    'CONSTRUCTION': 11,\n",
    "    'CONSULTANT': 12,\n",
    "    'DESIGNER': 13,\n",
    "    'DIGITAL-MEDIA': 14,\n",
    "    'ENGINEERING': 15,\n",
    "    'FINANCE': 16,\n",
    "    'FITNESS': 17,\n",
    "    'HEALTHCARE': 18,\n",
    "    'HR': 19,\n",
    "    'INFORMATION-TECHNOLOGY': 20,\n",
    "    'PUBLIC-RELATIONS': 21,\n",
    "    'SALES': 22,\n",
    "    'TEACHER': 23\n",
    "}"
   ]
  },
  {
   "cell_type": "code",
   "execution_count": 21,
   "metadata": {},
   "outputs": [],
   "source": [
    "def remove_stopwords_and_lemmatize(text):\n",
    "    doc = nlp(text.lower())\n",
    "    tokens_lemmatized = [token.lemma_ for token in doc if not token.is_stop and not token.is_punct]\n",
    "    return ' '.join(tokens_lemmatized)"
   ]
  },
  {
   "cell_type": "code",
   "execution_count": 22,
   "metadata": {},
   "outputs": [],
   "source": [
    "def map_classes(input_csv, class_mapping):\n",
    "    df = pd.read_csv(input_csv)\n",
    "    df['class'] = df['class'].map(class_mapping)\n",
    "    df.to_csv(input_csv, index=False)\n",
    "    print(f'Arquivo CSV com classes mapeadas salvo em {input_csv}')\n",
    "    category_counts = df['class'].value_counts().sort_index()\n",
    "    for category_id, count in category_counts.items():\n",
    "        category_name = next(key for key, value in class_mapping.items() if value == category_id)\n",
    "        print(f\"{category_name} = {count}\")"
   ]
  },
  {
   "cell_type": "code",
   "execution_count": 23,
   "metadata": {},
   "outputs": [],
   "source": [
    "def process_csv(input_csv):\n",
    "    df = pd.read_csv(input_csv, encoding='utf-8')\n",
    "    df = df[df['text'].apply(lambda x: x.strip() != '')]\n",
    "    df['text'] = df['text'].apply(remove_stopwords_and_lemmatize)\n",
    "    df.to_csv(input_csv, index=False, encoding='utf-8')\n",
    "    print(f'Arquivo CSV processado salvo em {input_csv}')"
   ]
  },
  {
   "cell_type": "code",
   "execution_count": 24,
   "metadata": {},
   "outputs": [
    {
     "name": "stdout",
     "output_type": "stream",
     "text": [
      "Arquivo CSV com classes mapeadas salvo em csv/output.csv\n"
     ]
    }
   ],
   "source": [
    "input_csv = 'csv/output.csv'\n",
    "map_classes(input_csv, class_mapping)"
   ]
  },
  {
   "cell_type": "code",
   "execution_count": 26,
   "metadata": {},
   "outputs": [
    {
     "name": "stdout",
     "output_type": "stream",
     "text": [
      "Arquivo CSV processado salvo em csv/output.csv\n"
     ]
    }
   ],
   "source": [
    "process_csv(input_csv)\n"
   ]
  },
  {
   "cell_type": "code",
   "execution_count": null,
   "metadata": {},
   "outputs": [],
   "source": []
  }
 ],
 "metadata": {
  "kernelspec": {
   "display_name": "Python 3 (ipykernel)",
   "language": "python",
   "name": "python3"
  },
  "language_info": {
   "codemirror_mode": {
    "name": "ipython",
    "version": 3
   },
   "file_extension": ".py",
   "mimetype": "text/x-python",
   "name": "python",
   "nbconvert_exporter": "python",
   "pygments_lexer": "ipython3",
   "version": "3.10.12"
  }
 },
 "nbformat": 4,
 "nbformat_minor": 2
}
