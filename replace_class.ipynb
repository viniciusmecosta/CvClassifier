{
 "cells": [
  {
   "cell_type": "code",
   "execution_count": 2,
   "metadata": {},
   "outputs": [],
   "source": [
    "import pandas as pd"
   ]
  },
  {
   "cell_type": "code",
   "execution_count": 3,
   "metadata": {},
   "outputs": [],
   "source": [
    "class_mapping = {\n",
    "    'ACCOUNTANT': 0,\n",
    "    'ADVOCATE': 1,\n",
    "    'AGRICULTURE': 2,\n",
    "    'APPAREL': 3,\n",
    "    'ARTS': 4,\n",
    "    'AUTOMOBILE': 5,\n",
    "    'AVIATION': 6,\n",
    "    'BANKING': 7,\n",
    "    'BPO': 8,\n",
    "    'BUSINESS-DEVELOPMENT': 9,\n",
    "    'CHEF': 10,\n",
    "    'CONSTRUCTION': 11,\n",
    "    'CONSULTANT': 12,\n",
    "    'DESIGNER': 13,\n",
    "    'DIGITAL-MEDIA': 14,\n",
    "    'ENGINEERING': 15,\n",
    "    'FINANCE': 16,\n",
    "    'FITNESS': 17,\n",
    "    'HEALTHCARE': 18,\n",
    "    'HR': 19,\n",
    "    'INFORMATION-TECHNOLOGY': 20,\n",
    "    'PUBLIC-RELATIONS': 21,\n",
    "    'SALES': 22,\n",
    "    'TEACHER': 23\n",
    "}\n"
   ]
  },
  {
   "cell_type": "code",
   "execution_count": 4,
   "metadata": {},
   "outputs": [],
   "source": [
    "input_csv = 'csv/output_pdftotext.csv'\n",
    "output_csv = 'csv/output_mapped.csv'"
   ]
  },
  {
   "cell_type": "code",
   "execution_count": 5,
   "metadata": {},
   "outputs": [
    {
     "name": "stdout",
     "output_type": "stream",
     "text": [
      "Arquivo CSV com classes mapeadas salvo em csv/output_mapped.csv\n"
     ]
    }
   ],
   "source": [
    "df = pd.read_csv(input_csv)\n",
    "df['class'] = df['class'].map(class_mapping)\n",
    "df.to_csv(output_csv, index=False)\n",
    "print(f'Arquivo CSV com classes mapeadas salvo em {output_csv}')"
   ]
  },
  {
   "cell_type": "code",
   "execution_count": 6,
   "metadata": {},
   "outputs": [
    {
     "name": "stdout",
     "output_type": "stream",
     "text": [
      "ACCOUNTANT = 118\n",
      "ADVOCATE = 118\n",
      "AGRICULTURE = 63\n",
      "APPAREL = 97\n",
      "ARTS = 103\n",
      "AUTOMOBILE = 36\n",
      "AVIATION = 117\n",
      "BANKING = 115\n",
      "BPO = 22\n",
      "BUSINESS-DEVELOPMENT = 120\n",
      "CHEF = 118\n",
      "CONSTRUCTION = 112\n",
      "CONSULTANT = 115\n",
      "DESIGNER = 107\n",
      "DIGITAL-MEDIA = 96\n",
      "ENGINEERING = 118\n",
      "FINANCE = 118\n",
      "FITNESS = 117\n",
      "HEALTHCARE = 115\n",
      "HR = 110\n",
      "INFORMATION-TECHNOLOGY = 120\n",
      "PUBLIC-RELATIONS = 111\n",
      "SALES = 116\n",
      "TEACHER = 102\n"
     ]
    }
   ],
   "source": [
    "\n",
    "category_counts = df['class'].value_counts().sort_index()\n",
    "for category_id, count in category_counts.items():\n",
    "    category_name = next(key for key, value in class_mapping.items() if value == category_id)\n",
    "    print(f\"{category_name} = {count}\")"
   ]
  },
  {
   "cell_type": "code",
   "execution_count": null,
   "metadata": {},
   "outputs": [],
   "source": []
  }
 ],
 "metadata": {
  "kernelspec": {
   "display_name": "Python 3 (ipykernel)",
   "language": "python",
   "name": "python3"
  },
  "language_info": {
   "codemirror_mode": {
    "name": "ipython",
    "version": 3
   },
   "file_extension": ".py",
   "mimetype": "text/x-python",
   "name": "python",
   "nbconvert_exporter": "python",
   "pygments_lexer": "ipython3",
   "version": "3.12.3"
  }
 },
 "nbformat": 4,
 "nbformat_minor": 4
}
