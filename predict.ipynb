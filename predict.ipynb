{
 "cells": [
  {
   "cell_type": "code",
   "execution_count": 85,
   "metadata": {},
   "outputs": [],
   "source": [
    "import pdftotext\n",
    "import logging\n",
    "import spacy\n",
    "import joblib\n",
    "import logging\n",
    "import numpy as np"
   ]
  },
  {
   "cell_type": "code",
   "execution_count": 86,
   "metadata": {},
   "outputs": [],
   "source": [
    "logging.basicConfig(level=logging.INFO, format='%(asctime)s - %(levelname)s - %(message)s')\n",
    "logger = logging.getLogger(__name__)"
   ]
  },
  {
   "cell_type": "code",
   "execution_count": 87,
   "metadata": {},
   "outputs": [],
   "source": [
    "class_mapping = {\n",
    "    'ACCOUNTANT': 0,\n",
    "    'ADVOCATE': 1,\n",
    "    'AGRICULTURE': 2,\n",
    "    'APPAREL': 3,\n",
    "    'ARTS': 4,\n",
    "    'AUTOMOBILE': 5,\n",
    "    'AVIATION': 6,\n",
    "    'BANKING': 7,\n",
    "    'BPO': 8,\n",
    "    'BUSINESS-DEVELOPMENT': 9,\n",
    "    'CHEF': 10,\n",
    "    'CONSTRUCTION': 11,\n",
    "    'CONSULTANT': 12,\n",
    "    'DESIGNER': 13,\n",
    "    'DIGITAL-MEDIA': 14,\n",
    "    'ENGINEERING': 15,\n",
    "    'FINANCE': 16,\n",
    "    'FITNESS': 17,\n",
    "    'HEALTHCARE': 18,\n",
    "    'HR': 19,\n",
    "    'INFORMATION-TECHNOLOGY': 20,\n",
    "    'PUBLIC-RELATIONS': 21,\n",
    "    'SALES': 22,\n",
    "    'TEACHER': 23\n",
    "}"
   ]
  },
  {
   "cell_type": "code",
   "execution_count": 88,
   "metadata": {},
   "outputs": [],
   "source": [
    "model = joblib.load(\"ai/model.pkl\")\n",
    "vectorizer = joblib.load(\"ai/vector.pkl\")\n",
    "nlp = spacy.load(\"en_core_web_lg\")"
   ]
  },
  {
   "cell_type": "code",
   "execution_count": 89,
   "metadata": {},
   "outputs": [],
   "source": [
    "def remove_stopwords_and_lemmatize(text):\n",
    "    cleaned_text = ' '.join(text.strip().split())\n",
    "    doc = nlp(cleaned_text.lower())\n",
    "    tokens_lemmatized = [token.lemma_ for token in doc if not token.is_stop and not token.is_punct]\n",
    "    return ' '.join(tokens_lemmatized)"
   ]
  },
  {
   "cell_type": "code",
   "execution_count": 90,
   "metadata": {},
   "outputs": [],
   "source": [
    "def extract_text_from_pdf(pdf_file):\n",
    "    with open(pdf_file, \"rb\") as f:\n",
    "        pdf = pdftotext.PDF(f)\n",
    "    return \"\\n\\n\".join(pdf)"
   ]
  },
  {
   "cell_type": "code",
   "execution_count": 91,
   "metadata": {},
   "outputs": [],
   "source": [
    "def process_pdf_and_classify(pdf_file):\n",
    "    text = extract_text_from_pdf(pdf_file)\n",
    "    preprocessed_text = remove_stopwords_and_lemmatize(text)\n",
    "    X = np.array([preprocessed_text])\n",
    "    X_vec = vectorizer.transform(X)\n",
    "    probabilities = model.predict_proba(X_vec)\n",
    "    return probabilities"
   ]
  },
  {
   "cell_type": "code",
   "execution_count": 92,
   "metadata": {},
   "outputs": [],
   "source": [
    "def top_probabilities(probabilities):\n",
    "    top_indices = np.argsort(probabilities[0])[::-1][:5]\n",
    "    print(\"Top 5 probabilidades:\")\n",
    "    for idx in top_indices:\n",
    "        class_name = [key for key, value in class_mapping.items() if value == idx][0]\n",
    "        prob_percent = probabilities[0][idx] * 100\n",
    "        print(f\"{class_name}: {prob_percent:.2f}%\")"
   ]
  },
  {
   "cell_type": "code",
   "execution_count": 96,
   "metadata": {},
   "outputs": [],
   "source": [
    "pdf_file = 'teste_ia/public-relations.pdf'\n",
    "probabilities = process_pdf_and_classify(pdf_file)"
   ]
  },
  {
   "cell_type": "code",
   "execution_count": 97,
   "metadata": {},
   "outputs": [
    {
     "name": "stdout",
     "output_type": "stream",
     "text": [
      "Top 5 probabilidades:\n",
      "PUBLIC-RELATIONS: 99.30%\n",
      "HR: 0.29%\n",
      "ACCOUNTANT: 0.20%\n",
      "HEALTHCARE: 0.07%\n",
      "ADVOCATE: 0.03%\n"
     ]
    }
   ],
   "source": [
    "top_probabilities(probabilities)"
   ]
  }
 ],
 "metadata": {
  "kernelspec": {
   "display_name": "Python 3",
   "language": "python",
   "name": "python3"
  },
  "language_info": {
   "codemirror_mode": {
    "name": "ipython",
    "version": 3
   },
   "file_extension": ".py",
   "mimetype": "text/x-python",
   "name": "python",
   "nbconvert_exporter": "python",
   "pygments_lexer": "ipython3",
   "version": "3.12.3"
  }
 },
 "nbformat": 4,
 "nbformat_minor": 2
}
