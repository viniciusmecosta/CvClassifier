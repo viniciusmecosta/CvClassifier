{
 "cells": [
  {
   "cell_type": "code",
   "execution_count": 1,
   "metadata": {},
   "outputs": [],
   "source": [
    "import os\n",
    "import csv\n",
    "import textract\n",
    "import fitz  \n",
    "import pypdfium2 as pdfium\n",
    "import pdftotext  \n",
    "from tika import parser  \n",
    "import time\n",
    "import matplotlib.pyplot as plt\n",
    "import numpy as np\n"
   ]
  },
  {
   "cell_type": "code",
   "execution_count": 2,
   "metadata": {},
   "outputs": [],
   "source": [
    "def process_pdfs_textract(base_directory, output_csv):\n",
    "    data = []\n",
    "    pdf_id = 1\n",
    "    total_time = 0\n",
    "\n",
    "    for subdir, _, files in os.walk(base_directory):\n",
    "        class_name = os.path.basename(subdir)\n",
    "\n",
    "        for filename in files:\n",
    "            if filename.endswith(\".pdf\"):\n",
    "                pdf_path = os.path.join(subdir, filename)\n",
    "\n",
    "                start_time = time.time()\n",
    "                try:\n",
    "                    text = textract.process(pdf_path)\n",
    "                    text = text.decode('utf-8')\n",
    "                    data.append([pdf_id, text, class_name])\n",
    "                    pdf_id += 1\n",
    "                    elapsed_time = time.time() - start_time\n",
    "                    total_time += elapsed_time\n",
    "\n",
    "                except Exception as e:\n",
    "                    elapsed_time = time.time() - start_time\n",
    "                    total_time += elapsed_time\n",
    "                    print(f\"Erro ao processar {filename}: {e}\")\n",
    "\n",
    "    with open(output_csv, mode='w', newline='', encoding='utf-8') as file:\n",
    "        writer = csv.writer(file)\n",
    "        writer.writerow([\"id\", \"text\", \"class\"])\n",
    "        writer.writerows(data)\n",
    "\n",
    "    print(f\"Dados salvos em {output_csv}\")\n",
    "    print(f\"Tempo total de execução (textract): {total_time:.2f} segundos\")\n",
    "    \n",
    "    return total_time\n"
   ]
  },
  {
   "cell_type": "code",
   "execution_count": 15,
   "metadata": {},
   "outputs": [],
   "source": [
    "def process_pdfs_pymupdf(base_directory, output_csv):\n",
    "    data = []\n",
    "    pdf_id = 1\n",
    "    total_time = 0\n",
    "\n",
    "    for subdir, _, files in os.walk(base_directory):\n",
    "        class_name = os.path.basename(subdir)\n",
    "\n",
    "        for filename in files:\n",
    "            if filename.endswith(\".pdf\"):\n",
    "                pdf_path = os.path.join(subdir, filename)\n",
    "\n",
    "                start_time = time.time()\n",
    "                try:\n",
    "                    doc = fitz.open(pdf_path)\n",
    "                    text = \"\"\n",
    "                    for page_num in range(len(doc)):\n",
    "                        page = doc.load_page(page_num)\n",
    "                        text += page.get_text()\n",
    "                    elapsed_time = time.time() - start_time\n",
    "\n",
    "                    data.append([pdf_id, text, class_name])\n",
    "                    pdf_id += 1\n",
    "                    total_time += elapsed_time\n",
    "\n",
    "                except Exception as e:\n",
    "                    elapsed_time = time.time() - start_time\n",
    "                    total_time += elapsed_time\n",
    "                    print(f\"Erro ao processar {filename} com PyMuPDF: {e}\")\n",
    "\n",
    "    with open(output_csv, mode='w', newline='', encoding='utf-8') as file:\n",
    "        writer = csv.writer(file)\n",
    "        writer.writerow([\"id\", \"text\", \"class\"])\n",
    "        writer.writerows(data)\n",
    "\n",
    "    print(f\"Dados salvos em {output_csv}\")\n",
    "    print(f\"Tempo total de execução (PyMuPDF): {total_time:.2f} segundos\")\n",
    "    return total_time"
   ]
  },
  {
   "cell_type": "code",
   "execution_count": 16,
   "metadata": {},
   "outputs": [],
   "source": [
    "def process_pdfs_pypdfium2(base_directory, output_csv):\n",
    "    data = []\n",
    "    pdf_id = 1\n",
    "    total_time = 0\n",
    "\n",
    "    for subdir, _, files in os.walk(base_directory):\n",
    "        class_name = os.path.basename(subdir)\n",
    "\n",
    "        for filename in files:\n",
    "            if filename.endswith(\".pdf\"):\n",
    "                pdf_path = os.path.join(subdir, filename)\n",
    "\n",
    "                start_time = time.time()\n",
    "                try:\n",
    "                    pdf = pdfium.PdfDocument(pdf_path)\n",
    "                    text = \"\"\n",
    "                    for page_num in range(len(pdf)):\n",
    "                        page = pdf.get_page(page_num)\n",
    "                        text += page.get_textpage().get_text_range()\n",
    "                    elapsed_time = time.time() - start_time\n",
    "\n",
    "                    data.append([pdf_id, text, class_name])\n",
    "                    pdf_id += 1\n",
    "                    total_time += elapsed_time\n",
    "\n",
    "                except Exception as e:\n",
    "                    elapsed_time = time.time() - start_time\n",
    "                    total_time += elapsed_time\n",
    "                    print(f\"Erro ao processar {filename} com pypdfium2: {e}\")\n",
    "\n",
    "    with open(output_csv, mode='w', newline='', encoding='utf-8') as file:\n",
    "        writer = csv.writer(file)\n",
    "        writer.writerow([\"id\", \"text\", \"class\"])\n",
    "        writer.writerows(data)\n",
    "\n",
    "    print(f\"Dados salvos em {output_csv}\")\n",
    "    print(f\"Tempo total de execução (pypdfium2): {total_time:.2f} segundos\")\n",
    "    return total_time\n"
   ]
  },
  {
   "cell_type": "code",
   "execution_count": 4,
   "metadata": {},
   "outputs": [],
   "source": [
    "def process_pdfs_pdftotext(base_directory, output_csv):\n",
    "    data = []\n",
    "    pdf_id = 1\n",
    "    total_time = 0\n",
    "\n",
    "    for subdir, _, files in os.walk(base_directory):\n",
    "        class_name = os.path.basename(subdir)\n",
    "\n",
    "        for filename in files:\n",
    "            if filename.endswith(\".pdf\"):\n",
    "                pdf_path = os.path.join(subdir, filename)\n",
    "\n",
    "                start_time = time.time()\n",
    "                try:\n",
    "                    with open(pdf_path, \"rb\") as f:\n",
    "                        pdf = pdftotext.PDF(f)\n",
    "                    text = \"\\n\\n\".join(pdf)\n",
    "                    elapsed_time = time.time() - start_time\n",
    "\n",
    "                    data.append([pdf_id, text, class_name])\n",
    "                    pdf_id += 1\n",
    "                    total_time += elapsed_time\n",
    "\n",
    "                except Exception as e:\n",
    "                    elapsed_time = time.time() - start_time\n",
    "                    total_time += elapsed_time\n",
    "                    print(f\"Erro ao processar {filename} com pdftotext: {e}\")\n",
    "\n",
    "    with open(output_csv, mode='w', newline='', encoding='utf-8') as file:\n",
    "        writer = csv.writer(file)\n",
    "        writer.writerow([\"id\", \"text\", \"class\"])\n",
    "        writer.writerows(data)\n",
    "\n",
    "    print(f\"Dados salvos em {output_csv}\")\n",
    "    print(f\"Tempo total de execução (pdftotext): {total_time:.2f} segundos\")\n",
    "    return total_time\n"
   ]
  },
  {
   "cell_type": "code",
   "execution_count": 18,
   "metadata": {},
   "outputs": [],
   "source": [
    "def process_pdfs_tika(base_directory, output_csv):\n",
    "    data = []\n",
    "    pdf_id = 1\n",
    "    total_time = 0\n",
    "\n",
    "    for subdir, _, files in os.walk(base_directory):\n",
    "        class_name = os.path.basename(subdir)\n",
    "\n",
    "        for filename in files:\n",
    "            if filename.endswith(\".pdf\"):\n",
    "                pdf_path = os.path.join(subdir, filename)\n",
    "\n",
    "                start_time = time.time()\n",
    "                try:\n",
    "                    raw = parser.from_file(pdf_path)\n",
    "                    text = raw['content']\n",
    "                    elapsed_time = time.time() - start_time\n",
    "\n",
    "                    data.append([pdf_id, text, class_name])\n",
    "                    pdf_id += 1\n",
    "                    total_time += elapsed_time\n",
    "\n",
    "                except Exception as e:\n",
    "                    elapsed_time = time.time() - start_time\n",
    "                    total_time += elapsed_time\n",
    "                    print(f\"Erro ao processar {filename} com Tika: {e}\")\n",
    "\n",
    "    with open(output_csv, mode='w', newline='', encoding='utf-8') as file:\n",
    "        writer = csv.writer(file)\n",
    "        writer.writerow([\"id\", \"text\", \"class\"])\n",
    "        writer.writerows(data)\n",
    "\n",
    "    print(f\"Dados salvos em {output_csv}\")\n",
    "    print(f\"Tempo total de execução (Tika): {total_time:.2f} segundos\")\n",
    "    return total_time\n"
   ]
  },
  {
   "cell_type": "code",
   "execution_count": 19,
   "metadata": {},
   "outputs": [],
   "source": [
    "def plot_execution_times(libraries, times):\n",
    "    sorted_data = sorted(zip(libraries, times), key=lambda x: x[1])\n",
    "    libraries_sorted, times_sorted = zip(*sorted_data)\n",
    "    plt.figure(figsize=(10, 6))\n",
    "    colors = plt.cm.viridis(np.linspace(0, 1, len(libraries_sorted)))\n",
    "    bars = plt.bar(libraries_sorted, times_sorted, color=colors)\n",
    "    \n",
    "    for bar, time in zip(bars, times_sorted):\n",
    "        yval = bar.get_height()\n",
    "        plt.text(bar.get_x() + bar.get_width()/2, yval, f'{time:.2f} s', ha='center', va='bottom', fontsize=8)\n",
    "    plt.xlabel('Bibliotecas')\n",
    "    plt.ylabel('Tempo de Execução (segundos)')\n",
    "    plt.title('Tempo de Execução das Bibliotecas de Processamento de PDF')\n",
    "    plt.xticks(rotation=45)\n",
    "    plt.tight_layout()\n",
    "    plt.show()\n"
   ]
  },
  {
   "cell_type": "code",
   "execution_count": 13,
   "metadata": {},
   "outputs": [
    {
     "name": "stdout",
     "output_type": "stream",
     "text": [
      "Dados salvos em csv/output_textract.csv\n",
      "Tempo total de execução (textract): 113.94 segundos\n",
      "Dados salvos em csv/output_pymupdf.csv\n",
      "Tempo total de execução (PyMuPDF): 29.55 segundos\n"
     ]
    },
    {
     "name": "stderr",
     "output_type": "stream",
     "text": [
      "/home/vini/Documentos/cv_classifier/.venv/lib/python3.12/site-packages/pypdfium2/_helpers/textpage.py:80: UserWarning: get_text_range() call with default params will be implicitly redirected to get_text_bounded()\n",
      "  warnings.warn(\"get_text_range() call with default params will be implicitly redirected to get_text_bounded()\")\n"
     ]
    },
    {
     "name": "stdout",
     "output_type": "stream",
     "text": [
      "Dados salvos em csv/output_pypdfium2.csv\n",
      "Tempo total de execução (pypdfium2): 43.24 segundos\n"
     ]
    },
    {
     "name": "stderr",
     "output_type": "stream",
     "text": [
      "2024-06-17 20:58:25,221 [MainThread  ] [INFO ]  Retrieving http://search.maven.org/remotecontent?filepath=org/apache/tika/tika-server-standard/2.6.0/tika-server-standard-2.6.0.jar to /tmp/tika-server.jar.\n"
     ]
    },
    {
     "name": "stdout",
     "output_type": "stream",
     "text": [
      "Dados salvos em csv/output_pdftotext.csv\n",
      "Tempo total de execução (pdftotext): 27.30 segundos\n"
     ]
    },
    {
     "name": "stderr",
     "output_type": "stream",
     "text": [
      "2024-06-17 20:58:32,513 [MainThread  ] [INFO ]  Retrieving http://search.maven.org/remotecontent?filepath=org/apache/tika/tika-server-standard/2.6.0/tika-server-standard-2.6.0.jar.md5 to /tmp/tika-server.jar.md5.\n",
      "2024-06-17 20:58:33,480 [MainThread  ] [WARNI]  Failed to see startup log message; retrying...\n",
      "2024-06-17 20:58:38,487 [MainThread  ] [WARNI]  Failed to see startup log message; retrying...\n"
     ]
    },
    {
     "name": "stdout",
     "output_type": "stream",
     "text": [
      "Dados salvos em csv/output_tika.csv\n",
      "Tempo total de execução (Tika): 76.59 segundos\n"
     ]
    }
   ],
   "source": [
    "timetextract = process_pdfs_textract(\"data\", \"csv/output_textract.csv\")\n",
    "timemu = process_pdfs_pymupdf(\"data\", \"csv/output_pymupdf.csv\")\n",
    "timefium = process_pdfs_pypdfium2(\"data\", \"csv/output_pypdfium2.csv\")\n",
    "timepdfto = process_pdfs_pdftotext(\"data\", \"csv/output_pdftotext.csv\")\n",
    "timetika = process_pdfs_tika(\"data\", \"csv/output_tika.csv\")\n",
    "libraries = ['textract', 'pymupdf', 'pypdfium2', 'pdftotext', 'tika']\n",
    "times = [timetextract, timemu, timefium, timepdfto, timetika]\n"
   ]
  },
  {
   "cell_type": "code",
   "execution_count": 16,
   "metadata": {},
   "outputs": [
    {
     "data": {
      "image/png": "[encoded data removed]",
      "text/plain": [
       "<Figure size 1000x600 with 1 Axes>"
      ]
     },
     "metadata": {},
     "output_type": "display_data"
    }
   ],
   "source": [
    "plot_execution_times(libraries, times)"
   ]
  },
  {
   "cell_type": "code",
   "execution_count": 5,
   "metadata": {},
   "outputs": [
    {
     "name": "stdout",
     "output_type": "stream",
     "text": [
      "Dados salvos em csv/output.csv\n",
      "Tempo total de execução (pdftotext): 14.25 segundos\n"
     ]
    },
    {
     "data": {
      "text/plain": [
       "14.247814893722534"
      ]
     },
     "execution_count": 5,
     "metadata": {},
     "output_type": "execute_result"
    }
   ],
   "source": [
    "process_pdfs_pdftotext(\"data\", \"csv/output.csv\")"
   ]
  },
  {
   "cell_type": "code",
   "execution_count": null,
   "metadata": {},
   "outputs": [],
   "source": []
  }
 ],
 "metadata": {
  "kernelspec": {
   "display_name": "Python 3 (ipykernel)",
   "language": "python",
   "name": "python3"
  },
  "language_info": {
   "codemirror_mode": {
    "name": "ipython",
    "version": 3
   },
   "file_extension": ".py",
   "mimetype": "text/x-python",
   "name": "python",
   "nbconvert_exporter": "python",
   "pygments_lexer": "ipython3",
   "version": "3.10.12"
  }
 },
 "nbformat": 4,
 "nbformat_minor": 4
}
