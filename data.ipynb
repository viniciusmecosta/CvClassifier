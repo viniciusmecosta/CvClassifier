{
 "cells": [
  {
   "cell_type": "code",
   "execution_count": 20,
   "metadata": {},
   "outputs": [],
   "source": [
    "import os\n",
    "import textract\n",
    "import csv\n"
   ]
  },
  {
   "cell_type": "code",
   "execution_count": 19,
   "metadata": {},
   "outputs": [],
   "source": [
    "base_directory = \"data/data\"\n",
    "output_csv = \"output.csv\"\n",
    "data = []\n",
    "pdf_id = 1\n"
   ]
  },
  {
   "cell_type": "code",
   "execution_count": 21,
   "metadata": {},
   "outputs": [
    {
     "name": "stdout",
     "output_type": "stream",
     "text": [
      "Dados salvos em output.csv\n"
     ]
    }
   ],
   "source": [
    "for subdir, _, files in os.walk(base_directory):\n",
    "    class_name = os.path.basename(subdir)\n",
    "    \n",
    "    for filename in files:\n",
    "        if filename.endswith(\".pdf\"):\n",
    "            pdf_path = os.path.join(subdir, filename)\n",
    "            \n",
    "            try:\n",
    "                text = textract.process(pdf_path)\n",
    "                text = text.decode('utf-8')\n",
    "                data.append([pdf_id, text, class_name])\n",
    "                pdf_id += 1\n",
    "            \n",
    "            except Exception as e:\n",
    "                print(f\"Erro ao processar {filename}: {e}\")\n",
    "\n",
    "with open(output_csv, mode='w', newline='', encoding='utf-8') as file:\n",
    "    writer = csv.writer(file)\n",
    "    writer.writerow([\"id\", \"text\", \"class\"])\n",
    "    writer.writerows(data)\n",
    "print(f\"Dados salvos em {output_csv}\")"
   ]
  }
 ],
 "metadata": {
  "kernelspec": {
   "display_name": ".venv",
   "language": "python",
   "name": "python3"
  },
  "language_info": {
   "codemirror_mode": {
    "name": "ipython",
    "version": 3
   },
   "file_extension": ".py",
   "mimetype": "text/x-python",
   "name": "python",
   "nbconvert_exporter": "python",
   "pygments_lexer": "ipython3",
   "version": "3.10.12"
  }
 },
 "nbformat": 4,
 "nbformat_minor": 2
}
