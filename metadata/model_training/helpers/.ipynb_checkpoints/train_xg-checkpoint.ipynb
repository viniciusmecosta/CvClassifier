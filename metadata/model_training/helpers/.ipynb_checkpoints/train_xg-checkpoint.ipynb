{
 "cells": [
  {
   "cell_type": "code",
   "execution_count": 6,
   "metadata": {},
   "outputs": [],
   "source": [
    "import pandas as pd\n",
    "import joblib\n",
    "import logging\n",
    "from sklearn.model_selection import train_test_split\n",
    "from sklearn.feature_extraction.text import CountVectorizer\n",
    "import xgboost as xgb\n",
    "from sklearn.metrics import accuracy_score"
   ]
  },
  {
   "cell_type": "code",
   "execution_count": 7,
   "metadata": {},
   "outputs": [],
   "source": [
    "logging.basicConfig(level=logging.INFO)"
   ]
  },
  {
   "cell_type": "code",
   "execution_count": 8,
   "metadata": {},
   "outputs": [],
   "source": [
    "def train(df):\n",
    "    vectorizer = CountVectorizer()\n",
    "    X_train_vec = vectorizer.fit_transform(df['text'])\n",
    "    clf = xgb.XGBClassifier()\n",
    "    clf.fit(X_train_vec, df['class'])\n",
    "    logging.info(\"Modelo treinado com sucesso!\")\n",
    "    return clf, vectorizer"
   ]
  },
  {
   "cell_type": "code",
   "execution_count": 9,
   "metadata": {},
   "outputs": [
    {
     "name": "stderr",
     "output_type": "stream",
     "text": [
      "INFO:root:   id                                               text  class\n",
      "0   1  director operation bpo executive summary resul...      8\n",
      "1   2  buyer summary 1 year end end experience worldw...      8\n",
      "2   3  sr workforce manager summary result orient wor...      8\n",
      "3   4  risk specialist professional summary sale oper...      8\n",
      "4   5  general manager board member executive profile...      8\n"
     ]
    }
   ],
   "source": [
    "input_csv = '../csv/output.csv'\n",
    "df = pd.read_csv(input_csv)\n",
    "logging.info(df.head())"
   ]
  },
  {
   "cell_type": "code",
   "execution_count": 10,
   "metadata": {},
   "outputs": [
    {
     "name": "stderr",
     "output_type": "stream",
     "text": [
      "INFO:root:Modelo treinado com sucesso!\n"
     ]
    }
   ],
   "source": [
    "model,vector = train(df)"
   ]
  },
  {
   "cell_type": "code",
   "execution_count": 11,
   "metadata": {},
   "outputs": [
    {
     "data": {
      "text/plain": [
       "['../../../app/AIModel/domain/vector_xg.pkl']"
      ]
     },
     "execution_count": 11,
     "metadata": {},
     "output_type": "execute_result"
    }
   ],
   "source": [
    "joblib.dump(model,\"../../../app/AIModel/domain/model_xg.pkl\")\n",
    "joblib.dump(vector,\"../../../app/AIModel/domain/vector_xg.pkl\")"
   ]
  }
 ],
 "metadata": {
  "kernelspec": {
   "display_name": "Python 3 (ipykernel)",
   "language": "python",
   "name": "python3"
  },
  "language_info": {
   "codemirror_mode": {
    "name": "ipython",
    "version": 3
   },
   "file_extension": ".py",
   "mimetype": "text/x-python",
   "name": "python",
   "nbconvert_exporter": "python",
   "pygments_lexer": "ipython3",
   "version": "3.10.12"
  }
 },
 "nbformat": 4,
 "nbformat_minor": 4
}
