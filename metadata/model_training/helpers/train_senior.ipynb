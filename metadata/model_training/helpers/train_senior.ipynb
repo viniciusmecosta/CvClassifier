{
 "cells": [
  {
   "cell_type": "code",
   "execution_count": 6,
   "metadata": {},
   "outputs": [],
   "source": [
    "import pandas as pd\n",
    "import joblib\n",
    "import logging\n",
    "from sklearn.feature_extraction.text import CountVectorizer\n",
    "import xgboost as xgb"
   ]
  },
  {
   "cell_type": "code",
   "execution_count": 7,
   "metadata": {},
   "outputs": [],
   "source": [
    "logging.basicConfig(level=logging.INFO)"
   ]
  },
  {
   "cell_type": "code",
   "execution_count": 8,
   "metadata": {},
   "outputs": [
    {
     "name": "stderr",
     "output_type": "stream",
     "text": [
      "INFO:root:     ID                                               text       class  \\\n",
      "0  2025  accountant professional summary skill work his...  ACCOUNTANT   \n",
      "1  2026  accountant summary business management graduat...  ACCOUNTANT   \n",
      "2  2027  investment accountant career focus accomplish ...  ACCOUNTANT   \n",
      "3  2028  staff accountant summary professional accounta...  ACCOUNTANT   \n",
      "4  2029  accountant summary senior level finance manage...  ACCOUNTANT   \n",
      "\n",
      "   class_number  senior  \n",
      "0             0       1  \n",
      "1             0       1  \n",
      "2             0       1  \n",
      "3             0       2  \n",
      "4             0       2  \n"
     ]
    }
   ],
   "source": [
    "input_csv = '../csv/dataset.csv'\n",
    "df = pd.read_csv(input_csv)\n",
    "logging.info(df.head())"
   ]
  },
  {
   "cell_type": "code",
   "execution_count": 9,
   "metadata": {},
   "outputs": [],
   "source": [
    "def train(df):\n",
    "    vectorizer = CountVectorizer()\n",
    "    X_train_vec = vectorizer.fit_transform(df['text'])\n",
    "    clf = xgb.XGBClassifier(max_depth=6, learning_rate=0.1, n_estimators=1000, gamma=0, subsample=0.8, colsample_bytree=0.8, reg_alpha=0, reg_lambda=1)\n",
    "    clf.fit(X_train_vec, df['senior'])\n",
    "    logging.info(\"Model trained!\")\n",
    "    return clf, vectorizer"
   ]
  },
  {
   "cell_type": "code",
   "execution_count": 10,
   "metadata": {},
   "outputs": [
    {
     "name": "stdout",
     "output_type": "stream",
     "text": [
      "INFO:root:Model trained!\n"
     ]
    }
   ],
   "source": [
    "model,vector = train_catboost(df)"
   ]
  },
  {
   "cell_type": "code",
   "execution_count": 11,
   "metadata": {},
   "outputs": [
    {
     "data": {
      "text/plain": [
       "['../../../app/AIModel/domain/vector_senior.pkl']"
      ]
     },
     "execution_count": 11,
     "metadata": {},
     "output_type": "execute_result"
    }
   ],
   "source": [
    "joblib.dump(model,\"../../../app/AIModel/domain/model_senior.pkl\")\n",
    "joblib.dump(vector,\"../../../app/AIModel/domain/vector_senior.pkl\")"
   ]
  }
 ],
 "metadata": {
  "kernelspec": {
   "display_name": "Python 3 (ipykernel)",
   "language": "python",
   "name": "python3"
  },
  "language_info": {
   "codemirror_mode": {
    "name": "ipython",
    "version": 3
   },
   "file_extension": ".py",
   "mimetype": "text/x-python",
   "name": "python",
   "nbconvert_exporter": "python",
   "pygments_lexer": "ipython3",
   "version": "3.10.12"
  }
 },
 "nbformat": 4,
 "nbformat_minor": 4
}
