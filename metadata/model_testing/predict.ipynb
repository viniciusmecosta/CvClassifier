{
 "cells": [
  {
   "cell_type": "code",
   "execution_count": 33,
   "metadata": {},
   "outputs": [],
   "source": [
    "import pdftotext\n",
    "import logging\n",
    "import spacy\n",
    "import joblib\n",
    "import logging\n",
    "import numpy as np\n",
    "import matplotlib.pyplot as plt\n",
    "import os"
   ]
  },
  {
   "cell_type": "code",
   "execution_count": 34,
   "metadata": {},
   "outputs": [],
   "source": [
    "logging.basicConfig(level=logging.INFO, format='%(asctime)s - %(levelname)s - %(message)s')\n",
    "logger = logging.getLogger(__name__)"
   ]
  },
  {
   "cell_type": "code",
   "execution_count": 35,
   "metadata": {},
   "outputs": [],
   "source": [
    "class_mapping = {\n",
    "    'ACCOUNTANT': 0,\n",
    "    'ADVOCATE': 1,\n",
    "    'AGRICULTURE': 2,\n",
    "    'APPAREL': 3,\n",
    "    'ARTS': 4,\n",
    "    'AUTOMOBILE': 5,\n",
    "    'AVIATION': 6,\n",
    "    'BANKING': 7,\n",
    "    'BPO': 8,\n",
    "    'BUSINESS-DEVELOPMENT': 9,\n",
    "    'CHEF': 10,\n",
    "    'CONSTRUCTION': 11,\n",
    "    'CONSULTANT': 12,\n",
    "    'DESIGNER': 13,\n",
    "    'DIGITAL-MEDIA': 14,\n",
    "    'ENGINEERING': 15,\n",
    "    'FINANCE': 16,\n",
    "    'FITNESS': 17,\n",
    "    'HEALTHCARE': 18,\n",
    "    'HR': 19,\n",
    "    'INFORMATION-TECHNOLOGY': 20,\n",
    "    'PUBLIC-RELATIONS': 21,\n",
    "    'SALES': 22,\n",
    "    'TEACHER': 23,\n",
    "    'ARCHITECT' :24\n",
    "}"
   ]
  },
  {
   "cell_type": "code",
   "execution_count": 36,
   "metadata": {},
   "outputs": [],
   "source": [
    "senior_mapping = {\n",
    "    'Junior': 0,\n",
    "    'Pleno': 1,\n",
    "    'Senior': 2,\n",
    "}"
   ]
  },
  {
   "cell_type": "code",
   "execution_count": 37,
   "metadata": {},
   "outputs": [],
   "source": [
    "model = joblib.load(\"../../app/AIModel/domain/model_class.pkl\")\n",
    "vectorizer = joblib.load(\"../../app/AIModel/domain/vector_class.pkl\")\n",
    "\n",
    "model_senior = joblib.load(\"../../app/AIModel/domain/model_senior.pkl\")\n",
    "vectorizer_senior = joblib.load(\"../../app/AIModel/domain/vector_senior.pkl\")\n",
    "nlp = spacy.load(\"en_core_web_lg\")"
   ]
  },
  {
   "cell_type": "code",
   "execution_count": 38,
   "metadata": {},
   "outputs": [],
   "source": [
    "def remove_stopwords_and_lemmatize(text):\n",
    "    cleaned_text = ' '.join(text.strip().split())\n",
    "    doc = nlp(cleaned_text.lower())\n",
    "    tokens_lemmatized = [token.lemma_ for token in doc if not token.is_stop and not token.is_punct]\n",
    "    return ' '.join(tokens_lemmatized)"
   ]
  },
  {
   "cell_type": "code",
   "execution_count": 39,
   "metadata": {},
   "outputs": [],
   "source": [
    "def extract_text_from_pdf(pdf_file):\n",
    "    with open(pdf_file, \"rb\") as f:\n",
    "        pdf = pdftotext.PDF(f)\n",
    "    return \"\\n\\n\".join(pdf)"
   ]
  },
  {
   "cell_type": "code",
   "execution_count": 40,
   "metadata": {},
   "outputs": [],
   "source": [
    "def process_pdf_and_classify(pdf_file):\n",
    "    text = extract_text_from_pdf(pdf_file)\n",
    "    preprocessed_text = remove_stopwords_and_lemmatize(text)\n",
    "    X = np.array([preprocessed_text])\n",
    "    X_vec = vectorizer.transform(X)\n",
    "    probabilities = model.predict_proba(X_vec)\n",
    "    return probabilities"
   ]
  },
  {
   "cell_type": "code",
   "execution_count": 41,
   "metadata": {},
   "outputs": [],
   "source": [
    "def top_probabilities(probabilities):\n",
    "    prob_list = list(probabilities[0])\n",
    "    sorted_indices = sorted(range(len(prob_list)), key=lambda i: prob_list[i], reverse=True)[:5]\n",
    "    for idx in sorted_indices:\n",
    "        class_name = [key for key, value in class_mapping.items() if value == idx][0]\n",
    "        prob_percent = prob_list[idx] * 100\n",
    "        logger.info(f\"{class_name}: {prob_percent:.2f}%\")\n"
   ]
  },
  {
   "cell_type": "code",
   "execution_count": 42,
   "metadata": {},
   "outputs": [],
   "source": [
    "def plot_percentage_bar(decimal_percentage):\n",
    "    labels = ['']\n",
    "    values = [decimal_percentage]\n",
    "    plt.figure(figsize=(6, 4))\n",
    "    plt.bar(labels, values, color='green')\n",
    "    plt.title(f\"Accuracy: {decimal_percentage}%\")\n",
    "    plt.ylabel('%')\n",
    "    plt.ylim(0, 1) \n",
    "    plt.grid(True)\n",
    "    plt.show()"
   ]
  },
  {
   "cell_type": "code",
   "execution_count": 43,
   "metadata": {},
   "outputs": [],
   "source": [
    "def process_pdf_and_classify_senior(pdf_file):\n",
    "    text = extract_text_from_pdf(pdf_file)\n",
    "    preprocessed_text = remove_stopwords_and_lemmatize(text)\n",
    "    X = np.array([preprocessed_text])\n",
    "    X_vec = vectorizer_senior.transform(X)\n",
    "    probabilities = model_senior.predict_proba(X_vec)\n",
    "    return probabilities"
   ]
  },
  {
   "cell_type": "code",
   "execution_count": 44,
   "metadata": {},
   "outputs": [],
   "source": [
    "def top_probabilities_senior(probabilities):\n",
    "    prob_list = list(probabilities[0])\n",
    "    sorted_indices = sorted(range(len(prob_list)), key=lambda i: prob_list[i], reverse=True)[:3]\n",
    "    for idx in sorted_indices:\n",
    "        class_name = [key for key, value in senior_mapping.items() if value == idx][0]\n",
    "        prob_percent = prob_list[idx] * 100\n",
    "        logger.info(f\"{class_name}: {prob_percent:.2f}%\")\n"
   ]
  },
  {
   "cell_type": "code",
   "execution_count": 45,
   "metadata": {},
   "outputs": [
    {
     "name": "stderr",
     "output_type": "stream",
     "text": [
      "2024-07-05 09:07:38,960 - INFO - ENGINEERING: 94.25%\n",
      "2024-07-05 09:07:38,961 - INFO - AUTOMOBILE: 2.43%\n",
      "2024-07-05 09:07:38,962 - INFO - DIGITAL-MEDIA: 0.87%\n",
      "2024-07-05 09:07:38,962 - INFO - ARTS: 0.50%\n",
      "2024-07-05 09:07:38,963 - INFO - TEACHER: 0.47%\n"
     ]
    }
   ],
   "source": [
    "pdf_file = 'db/13.pdf'\n",
    "probabilities = process_pdf_and_classify(pdf_file)\n",
    "top_probabilities(probabilities) "
   ]
  },
  {
   "cell_type": "code",
   "execution_count": 46,
   "metadata": {},
   "outputs": [
    {
     "name": "stderr",
     "output_type": "stream",
     "text": [
      "2024-07-05 09:07:39,157 - INFO - Junior: 92.38%\n",
      "2024-07-05 09:07:39,161 - INFO - Pleno: 7.58%\n",
      "2024-07-05 09:07:39,161 - INFO - Senior: 0.04%\n"
     ]
    }
   ],
   "source": [
    "pdf_file = 'db/13.pdf'\n",
    "probabilities = process_pdf_and_classify_senior(pdf_file)\n",
    "top_probabilities_senior(probabilities) "
   ]
  },
  {
   "cell_type": "code",
   "execution_count": 47,
   "metadata": {},
   "outputs": [],
   "source": [
    "def classify_pdfs_in_folder(folder_path):\n",
    "    classifications = []\n",
    "    for filename in os.listdir(folder_path):\n",
    "        if filename.endswith(\".pdf\"):\n",
    "            pdf_file = os.path.join(folder_path, filename)\n",
    "            probabilities = process_pdf_and_classify(pdf_file)\n",
    "            top_indices = np.argsort(probabilities[0])[::-1][:1]\n",
    "            predicted_class = [key for key, value in class_mapping.items() if value == top_indices[0]][0]\n",
    "            correct_class = filename.split(\".\")[0]\n",
    "            classifications.append(1 if predicted_class == correct_class else 0)\n",
    "            if predicted_class == correct_class:\n",
    "                logger.info(f\"+CORRECT classification: {predicted_class} (filename: {filename})\")\n",
    "            else:\n",
    "                logger.info(f\"-INCORRECT classification: predicted {predicted_class}, (filename: {filename})\")\n",
    "    return classifications"
   ]
  },
  {
   "cell_type": "code",
   "execution_count": 48,
   "metadata": {},
   "outputs": [
    {
     "name": "stderr",
     "output_type": "stream",
     "text": [
      "2024-07-05 09:07:39,426 - INFO - -INCORRECT classification: predicted AUTOMOBILE, (filename: 7.pdf)\n",
      "2024-07-05 09:07:39,726 - INFO - -INCORRECT classification: predicted ENGINEERING, (filename: 10.pdf)\n",
      "2024-07-05 09:07:39,919 - INFO - -INCORRECT classification: predicted AUTOMOBILE, (filename: 4.pdf)\n",
      "2024-07-05 09:07:40,113 - INFO - -INCORRECT classification: predicted ENGINEERING, (filename: 15.pdf)\n",
      "2024-07-05 09:07:40,281 - INFO - -INCORRECT classification: predicted ENGINEERING, (filename: 2.pdf)\n",
      "2024-07-05 09:07:40,457 - INFO - -INCORRECT classification: predicted INFORMATION-TECHNOLOGY, (filename: 17.pdf)\n",
      "2024-07-05 09:07:40,653 - INFO - -INCORRECT classification: predicted FINANCE, (filename: 19.pdf)\n",
      "2024-07-05 09:07:40,830 - INFO - -INCORRECT classification: predicted SALES, (filename: 8.pdf)\n",
      "2024-07-05 09:07:41,009 - INFO - -INCORRECT classification: predicted ENGINEERING, (filename: 13.pdf)\n",
      "2024-07-05 09:07:41,265 - INFO - -INCORRECT classification: predicted FINANCE, (filename: 18.pdf)\n"
     ]
    },
    {
     "ename": "IndexError",
     "evalue": "list index out of range",
     "output_type": "error",
     "traceback": [
      "\u001b[0;31m---------------------------------------------------------------------------\u001b[0m",
      "\u001b[0;31mIndexError\u001b[0m                                Traceback (most recent call last)",
      "Cell \u001b[0;32mIn[48], line 1\u001b[0m\n\u001b[0;32m----> 1\u001b[0m classification \u001b[38;5;241m=\u001b[39m \u001b[43mclassify_pdfs_in_folder\u001b[49m\u001b[43m(\u001b[49m\u001b[38;5;124;43m\"\u001b[39;49m\u001b[38;5;124;43mdb\u001b[39;49m\u001b[38;5;124;43m\"\u001b[39;49m\u001b[43m)\u001b[49m\n",
      "Cell \u001b[0;32mIn[47], line 8\u001b[0m, in \u001b[0;36mclassify_pdfs_in_folder\u001b[0;34m(folder_path)\u001b[0m\n\u001b[1;32m      6\u001b[0m probabilities \u001b[38;5;241m=\u001b[39m process_pdf_and_classify(pdf_file)\n\u001b[1;32m      7\u001b[0m top_indices \u001b[38;5;241m=\u001b[39m np\u001b[38;5;241m.\u001b[39margsort(probabilities[\u001b[38;5;241m0\u001b[39m])[::\u001b[38;5;241m-\u001b[39m\u001b[38;5;241m1\u001b[39m][:\u001b[38;5;241m1\u001b[39m]\n\u001b[0;32m----> 8\u001b[0m predicted_class \u001b[38;5;241m=\u001b[39m \u001b[43m[\u001b[49m\u001b[43mkey\u001b[49m\u001b[43m \u001b[49m\u001b[38;5;28;43;01mfor\u001b[39;49;00m\u001b[43m \u001b[49m\u001b[43mkey\u001b[49m\u001b[43m,\u001b[49m\u001b[43m \u001b[49m\u001b[43mvalue\u001b[49m\u001b[43m \u001b[49m\u001b[38;5;129;43;01min\u001b[39;49;00m\u001b[43m \u001b[49m\u001b[43mclass_mapping\u001b[49m\u001b[38;5;241;43m.\u001b[39;49m\u001b[43mitems\u001b[49m\u001b[43m(\u001b[49m\u001b[43m)\u001b[49m\u001b[43m \u001b[49m\u001b[38;5;28;43;01mif\u001b[39;49;00m\u001b[43m \u001b[49m\u001b[43mvalue\u001b[49m\u001b[43m \u001b[49m\u001b[38;5;241;43m==\u001b[39;49m\u001b[43m \u001b[49m\u001b[43mtop_indices\u001b[49m\u001b[43m[\u001b[49m\u001b[38;5;241;43m0\u001b[39;49m\u001b[43m]\u001b[49m\u001b[43m]\u001b[49m\u001b[43m[\u001b[49m\u001b[38;5;241;43m0\u001b[39;49m\u001b[43m]\u001b[49m\n\u001b[1;32m      9\u001b[0m correct_class \u001b[38;5;241m=\u001b[39m filename\u001b[38;5;241m.\u001b[39msplit(\u001b[38;5;124m\"\u001b[39m\u001b[38;5;124m.\u001b[39m\u001b[38;5;124m\"\u001b[39m)[\u001b[38;5;241m0\u001b[39m]\n\u001b[1;32m     10\u001b[0m classifications\u001b[38;5;241m.\u001b[39mappend(\u001b[38;5;241m1\u001b[39m \u001b[38;5;28;01mif\u001b[39;00m predicted_class \u001b[38;5;241m==\u001b[39m correct_class \u001b[38;5;28;01melse\u001b[39;00m \u001b[38;5;241m0\u001b[39m)\n",
      "\u001b[0;31mIndexError\u001b[0m: list index out of range"
     ]
    }
   ],
   "source": [
    "classification = classify_pdfs_in_folder(\"db\")"
   ]
  },
  {
   "cell_type": "code",
   "execution_count": null,
   "metadata": {},
   "outputs": [],
   "source": [
    "accu = sum(classification)/len(classification)"
   ]
  },
  {
   "cell_type": "code",
   "execution_count": null,
   "metadata": {},
   "outputs": [
    {
     "data": {
      "image/png": "[encoded data removed]",
      "text/plain": [
       "<Figure size 600x400 with 1 Axes>"
      ]
     },
     "metadata": {},
     "output_type": "display_data"
    }
   ],
   "source": [
    "plot_percentage_bar(accu)"
   ]
  }
 ],
 "metadata": {
  "kernelspec": {
   "display_name": "Python 3 (ipykernel)",
   "language": "python",
   "name": "python3"
  },
  "language_info": {
   "codemirror_mode": {
    "name": "ipython",
    "version": 3
   },
   "file_extension": ".py",
   "mimetype": "text/x-python",
   "name": "python",
   "nbconvert_exporter": "python",
   "pygments_lexer": "ipython3",
   "version": "3.10.12"
  }
 },
 "nbformat": 4,
 "nbformat_minor": 4
}
