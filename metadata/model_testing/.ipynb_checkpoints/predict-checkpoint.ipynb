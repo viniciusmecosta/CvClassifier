{
 "cells": [
  {
   "cell_type": "code",
   "execution_count": 96,
   "metadata": {},
   "outputs": [],
   "source": [
    "import pdftotext\n",
    "import logging\n",
    "import spacy\n",
    "import joblib\n",
    "import logging\n",
    "import numpy as np\n",
    "import matplotlib \n",
    "import os"
   ]
  },
  {
   "cell_type": "code",
   "execution_count": 97,
   "metadata": {},
   "outputs": [],
   "source": [
    "logging.basicConfig(level=logging.INFO, format='%(asctime)s - %(levelname)s - %(message)s')\n",
    "logger = logging.getLogger(__name__)"
   ]
  },
  {
   "cell_type": "code",
   "execution_count": 98,
   "metadata": {},
   "outputs": [],
   "source": [
    "class_mapping = {\n",
    "    'ACCOUNTANT': 0,\n",
    "    'ADVOCATE': 1,\n",
    "    'AGRICULTURE': 2,\n",
    "    'APPAREL': 3,\n",
    "    'ARTS': 4,\n",
    "    'AUTOMOBILE': 5,\n",
    "    'AVIATION': 6,\n",
    "    'BANKING': 7,\n",
    "    'BPO': 8,\n",
    "    'BUSINESS-DEVELOPMENT': 9,\n",
    "    'CHEF': 10,\n",
    "    'CONSTRUCTION': 11,\n",
    "    'CONSULTANT': 12,\n",
    "    'DESIGNER': 13,\n",
    "    'DIGITAL-MEDIA': 14,\n",
    "    'ENGINEERING': 15,\n",
    "    'FINANCE': 16,\n",
    "    'FITNESS': 17,\n",
    "    'HEALTHCARE': 18,\n",
    "    'HR': 19,\n",
    "    'INFORMATION-TECHNOLOGY': 20,\n",
    "    'PUBLIC-RELATIONS': 21,\n",
    "    'SALES': 22,\n",
    "    'TEACHER': 23\n",
    "}"
   ]
  },
  {
   "cell_type": "code",
   "execution_count": 99,
   "metadata": {},
   "outputs": [],
   "source": [
    "model = joblib.load(\"../../app/AIModel/domain/model.pkl\")\n",
    "vectorizer = joblib.load(\"../../app/AIModel/domain/vector.pkl\")\n",
    "nlp = spacy.load(\"en_core_web_lg\")"
   ]
  },
  {
   "cell_type": "code",
   "execution_count": 100,
   "metadata": {},
   "outputs": [],
   "source": [
    "def remove_stopwords_and_lemmatize(text):\n",
    "    cleaned_text = ' '.join(text.strip().split())\n",
    "    doc = nlp(cleaned_text.lower())\n",
    "    tokens_lemmatized = [token.lemma_ for token in doc if not token.is_stop and not token.is_punct]\n",
    "    return ' '.join(tokens_lemmatized)"
   ]
  },
  {
   "cell_type": "code",
   "execution_count": 101,
   "metadata": {},
   "outputs": [],
   "source": [
    "def extract_text_from_pdf(pdf_file):\n",
    "    with open(pdf_file, \"rb\") as f:\n",
    "        pdf = pdftotext.PDF(f)\n",
    "    return \"\\n\\n\".join(pdf)"
   ]
  },
  {
   "cell_type": "code",
   "execution_count": 102,
   "metadata": {},
   "outputs": [],
   "source": [
    "def process_pdf_and_classify(pdf_file):\n",
    "    text = extract_text_from_pdf(pdf_file)\n",
    "    preprocessed_text = remove_stopwords_and_lemmatize(text)\n",
    "    X = np.array([preprocessed_text])\n",
    "    X_vec = vectorizer.transform(X)\n",
    "    probabilities = model.predict_proba(X_vec)\n",
    "    return probabilities"
   ]
  },
  {
   "cell_type": "code",
   "execution_count": 103,
   "metadata": {},
   "outputs": [],
   "source": [
    "def top_probabilities(probabilities):\n",
    "    prob_list = list(probabilities[0])\n",
    "    sorted_indices = sorted(range(len(prob_list)), key=lambda i: prob_list[i], reverse=True)[:5]\n",
    "    logger.info(\"Top 5 probabilidades:\")\n",
    "    for idx in sorted_indices:\n",
    "        class_name = [key for key, value in class_mapping.items() if value == idx][0]\n",
    "        prob_percent = prob_list[idx] * 100\n",
    "        logger.info(f\"{class_name}: {prob_percent:.2f}%\")\n"
   ]
  },
  {
   "cell_type": "code",
   "execution_count": 114,
   "metadata": {},
   "outputs": [],
   "source": [
    "import matplotlib.pyplot as plt\n",
    "\n",
    "def plot_percentage_bar(decimal_percentage):\n",
    "    labels = ['Porcentagem']\n",
    "    values = [decimal_percentage]\n",
    "    plt.figure(figsize=(6, 4))\n",
    "    plt.bar(labels, values, color='green')\n",
    "    plt.title(f\"Accuracy: {decimal_percentage}%\")\n",
    "    plt.ylabel('%')\n",
    "    plt.ylim(0, 1) \n",
    "    plt.grid(True)\n",
    "    plt.show()"
   ]
  },
  {
   "cell_type": "code",
   "execution_count": 115,
   "metadata": {},
   "outputs": [],
   "source": [
    "pdf_file = 'db/AVIATION.pdf'\n",
    "probabilities = process_pdf_and_classify(pdf_file)"
   ]
  },
  {
   "cell_type": "code",
   "execution_count": 116,
   "metadata": {},
   "outputs": [
    {
     "name": "stderr",
     "output_type": "stream",
     "text": [
      "2024-06-21 20:19:00,772 - INFO - Top 5 probabilidades:\n",
      "2024-06-21 20:19:00,778 - INFO - AVIATION: 98.05%\n",
      "2024-06-21 20:19:00,782 - INFO - ARTS: 0.54%\n",
      "2024-06-21 20:19:00,786 - INFO - SALES: 0.21%\n",
      "2024-06-21 20:19:00,792 - INFO - APPAREL: 0.12%\n",
      "2024-06-21 20:19:00,795 - INFO - AGRICULTURE: 0.11%\n"
     ]
    }
   ],
   "source": [
    "top_probabilities(probabilities) "
   ]
  },
  {
   "cell_type": "code",
   "execution_count": 122,
   "metadata": {},
   "outputs": [],
   "source": [
    "def classify_pdfs_in_folder(folder_path):\n",
    "    classifications = []\n",
    "    for filename in os.listdir(folder_path):\n",
    "        if filename.endswith(\".pdf\"):\n",
    "            pdf_file = os.path.join(folder_path, filename)\n",
    "            probabilities = process_pdf_and_classify(pdf_file)\n",
    "            top_indices = np.argsort(probabilities[0])[::-1][:1]\n",
    "            predicted_class = [key for key, value in class_mapping.items() if value == top_indices[0]][0]\n",
    "            correct_class = filename.split(\".\")[0]\n",
    "            classifications.append(1 if predicted_class == correct_class else 0)\n",
    "            if predicted_class == correct_class:\n",
    "                logger.info(f\"+CORRECT classification: {predicted_class} (filename: {filename})\")\n",
    "            else:\n",
    "                logger.info(f\"-INCORRECT classification: predicted {predicted_class}, (filename: {filename})\")\n",
    "    return classifications"
   ]
  },
  {
   "cell_type": "code",
   "execution_count": 123,
   "metadata": {},
   "outputs": [
    {
     "name": "stderr",
     "output_type": "stream",
     "text": [
      "2024-06-21 20:19:56,646 - INFO - +CORRECT classification: AVIATION (filename: AVIATION.pdf)\n",
      "2024-06-21 20:19:56,853 - INFO - +CORRECT classification: HR (filename: HR.pdf)\n",
      "2024-06-21 20:19:57,009 - INFO - +CORRECT classification: PUBLIC-RELATIONS (filename: PUBLIC-RELATIONS.pdf)\n",
      "2024-06-21 20:19:57,529 - INFO - +CORRECT classification: ACCOUNTANT (filename: ACCOUNTANT.pdf)\n",
      "2024-06-21 20:19:57,654 - INFO - +CORRECT classification: ADVOCATE (filename: ADVOCATE.pdf)\n",
      "2024-06-21 20:19:57,792 - INFO - -INCORRECT classification: predicted BANKING, (filename: AGRICULTURE.pdf)\n",
      "2024-06-21 20:19:58,061 - INFO - -INCORRECT classification: predicted BANKING, (filename: APPAREL.pdf)\n",
      "2024-06-21 20:19:58,315 - INFO - +CORRECT classification: ARTS (filename: ARTS.pdf)\n",
      "2024-06-21 20:19:58,459 - INFO - -INCORRECT classification: predicted ARTS, (filename: AUTOMOBILE.pdf)\n",
      "2024-06-21 20:19:58,595 - INFO - -INCORRECT classification: predicted BUSINESS-DEVELOPMENT, (filename: BANKING.pdf)\n",
      "2024-06-21 20:19:58,741 - INFO - +CORRECT classification: BPO (filename: BPO.pdf)\n",
      "2024-06-21 20:19:58,911 - INFO - +CORRECT classification: BUSINESS-DEVELOPMENT (filename: BUSINESS-DEVELOPMENT.pdf)\n",
      "2024-06-21 20:19:59,053 - INFO - +CORRECT classification: CHEF (filename: CHEF.pdf)\n",
      "2024-06-21 20:19:59,176 - INFO - +CORRECT classification: CONSTRUCTION (filename: CONSTRUCTION.pdf)\n",
      "2024-06-21 20:19:59,362 - INFO - +CORRECT classification: CONSULTANT (filename: CONSULTANT.pdf)\n",
      "2024-06-21 20:19:59,582 - INFO - -INCORRECT classification: predicted HEALTHCARE, (filename: DESIGNER.pdf)\n",
      "2024-06-21 20:19:59,709 - INFO - -INCORRECT classification: predicted ARTS, (filename: DIGITAL-MEDIA.pdf)\n",
      "2024-06-21 20:19:59,832 - INFO - +CORRECT classification: ENGINEERING (filename: ENGINEERING.pdf)\n",
      "2024-06-21 20:19:59,972 - INFO - -INCORRECT classification: predicted CONSTRUCTION, (filename: FINANCE.pdf)\n",
      "2024-06-21 20:20:00,028 - INFO - +CORRECT classification: FITNESS (filename: FITNESS.pdf)\n",
      "2024-06-21 20:20:00,167 - INFO - -INCORRECT classification: predicted BUSINESS-DEVELOPMENT, (filename: HEALTHCARE.pdf)\n",
      "2024-06-21 20:20:00,375 - INFO - +CORRECT classification: INFORMATION-TECHNOLOGY (filename: INFORMATION-TECHNOLOGY.pdf)\n",
      "2024-06-21 20:20:00,530 - INFO - +CORRECT classification: SALES (filename: SALES.pdf)\n",
      "2024-06-21 20:20:00,659 - INFO - +CORRECT classification: TEACHER (filename: TEACHER.pdf)\n"
     ]
    }
   ],
   "source": [
    "classification = classify_pdfs_in_folder(\"db\")"
   ]
  },
  {
   "cell_type": "code",
   "execution_count": 124,
   "metadata": {},
   "outputs": [],
   "source": [
    "accu = sum(classification)/len(classification)"
   ]
  },
  {
   "cell_type": "code",
   "execution_count": 125,
   "metadata": {},
   "outputs": [
    {
     "data": {
      "image/png": "[encoded data removed]",
      "text/plain": [
       "<Figure size 600x400 with 1 Axes>"
      ]
     },
     "metadata": {},
     "output_type": "display_data"
    }
   ],
   "source": [
    "plot_percentage_bar(accu)"
   ]
  },
  {
   "cell_type": "code",
   "execution_count": null,
   "metadata": {},
   "outputs": [],
   "source": []
  }
 ],
 "metadata": {
  "kernelspec": {
   "display_name": "Python 3 (ipykernel)",
   "language": "python",
   "name": "python3"
  },
  "language_info": {
   "codemirror_mode": {
    "name": "ipython",
    "version": 3
   },
   "file_extension": ".py",
   "mimetype": "text/x-python",
   "name": "python",
   "nbconvert_exporter": "python",
   "pygments_lexer": "ipython3",
   "version": "3.12.3"
  }
 },
 "nbformat": 4,
 "nbformat_minor": 4
}
