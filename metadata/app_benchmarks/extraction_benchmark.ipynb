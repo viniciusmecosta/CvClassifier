{
 "cells": [
  {
   "cell_type": "code",
   "execution_count": 67,
   "metadata": {},
   "outputs": [],
   "source": [
    "import os\n",
    "import csv\n",
    "import fitz  \n",
    "import pypdfium2 as pdfium\n",
    "import pdftotext  \n",
    "from tika import parser  \n",
    "import time\n",
    "import matplotlib.pyplot as plt\n",
    "import numpy as np\n",
    "import logging\n",
    "import textract"
   ]
  },
  {
   "cell_type": "code",
   "execution_count": 68,
   "metadata": {},
   "outputs": [],
   "source": [
    "logging.basicConfig(level=logging.INFO, format='%(asctime)s - %(levelname)s - %(message)s')\n",
    "logger = logging.getLogger(__name__)"
   ]
  },
  {
   "cell_type": "code",
   "execution_count": 81,
   "metadata": {},
   "outputs": [],
   "source": [
    "def process_pdfs_textract(base_directory, output_csv):\n",
    "    start_total_time = time.time()\n",
    "    data = []\n",
    "    pdf_id = 1\n",
    "\n",
    "    for subdir, _, files in os.walk(base_directory):\n",
    "        class_name = os.path.basename(subdir)\n",
    "\n",
    "        for filename in files:\n",
    "            if filename.endswith(\".pdf\"):\n",
    "                pdf_path = os.path.join(subdir, filename)\n",
    "                \n",
    "                text = textract.process(pdf_path)\n",
    "                text = text.decode('utf-8')\n",
    "                data.append([pdf_id, text, class_name])\n",
    "                pdf_id += 1\n",
    "\n",
    "    with open(output_csv, mode='w', newline='', encoding='utf-8') as file:\n",
    "        writer = csv.writer(file)\n",
    "        writer.writerow([\"id\", \"text\", \"class\"])\n",
    "        writer.writerows(data)\n",
    "\n",
    "    end_total_time = time.time()\n",
    "    total_time = end_total_time - start_total_time\n",
    "\n",
    "    return total_time\n"
   ]
  },
  {
   "cell_type": "code",
   "execution_count": 70,
   "metadata": {},
   "outputs": [],
   "source": [
    "def process_pdfs_pymupdf(base_directory, output_csv):\n",
    "    start_total_time = time.time()\n",
    "    data = []\n",
    "    pdf_id = 1\n",
    "\n",
    "    for subdir, _, files in os.walk(base_directory):\n",
    "        class_name = os.path.basename(subdir)\n",
    "\n",
    "        for filename in files:\n",
    "            if filename.endswith(\".pdf\"):\n",
    "                pdf_path = os.path.join(subdir, filename)\n",
    "                \n",
    "                doc = fitz.open(pdf_path)\n",
    "                text = \"\"\n",
    "                for page_num in range(len(doc)):\n",
    "                    page = doc.load_page(page_num)\n",
    "                    text += page.get_text()\n",
    "\n",
    "                data.append([pdf_id, text, class_name])\n",
    "                pdf_id += 1\n",
    "\n",
    "    with open(output_csv, mode='w', newline='', encoding='utf-8') as file:\n",
    "        writer = csv.writer(file)\n",
    "        writer.writerow([\"id\", \"text\", \"class\"])\n",
    "        writer.writerows(data)\n",
    "    \n",
    "    end_total_time = time.time()\n",
    "    total_time = end_total_time - start_total_time\n",
    "\n",
    "    return total_time"
   ]
  },
  {
   "cell_type": "code",
   "execution_count": 71,
   "metadata": {},
   "outputs": [],
   "source": [
    "def process_pdfs_pypdfium2(base_directory, output_csv):\n",
    "    start_total_time = time.time()\n",
    "    data = []\n",
    "    pdf_id = 1\n",
    "\n",
    "    for subdir, _, files in os.walk(base_directory):\n",
    "        class_name = os.path.basename(subdir)\n",
    "\n",
    "        for filename in files:\n",
    "            if filename.endswith(\".pdf\"):\n",
    "                pdf_path = os.path.join(subdir, filename)\n",
    "                \n",
    "                pdf = pdfium.PdfDocument(pdf_path)\n",
    "                text = \"\"\n",
    "                for page_num in range(len(pdf)):\n",
    "                    page = pdf.get_page(page_num)\n",
    "                    text += page.get_textpage().get_text_range()\n",
    "\n",
    "                data.append([pdf_id, text, class_name])\n",
    "                pdf_id += 1\n",
    "\n",
    "    with open(output_csv, mode='w', newline='', encoding='utf-8') as file:\n",
    "        writer = csv.writer(file)\n",
    "        writer.writerow([\"id\", \"text\", \"class\"])\n",
    "        writer.writerows(data)\n",
    "    \n",
    "    end_total_time = time.time()\n",
    "    total_time = end_total_time - start_total_time\n",
    "\n",
    "    return total_time\n"
   ]
  },
  {
   "cell_type": "code",
   "execution_count": 72,
   "metadata": {},
   "outputs": [],
   "source": [
    "def process_pdfs_pdftotext(base_directory, output_csv):\n",
    "    start_total_time = time.time()\n",
    "    data = []\n",
    "    pdf_id = 1\n",
    "\n",
    "    for subdir, _, files in os.walk(base_directory):\n",
    "        class_name = os.path.basename(subdir)\n",
    "\n",
    "        for filename in files:\n",
    "            if filename.endswith(\".pdf\"):\n",
    "                pdf_path = os.path.join(subdir, filename)\n",
    "\n",
    "                with open(pdf_path, \"rb\") as f:\n",
    "                    pdf = pdftotext.PDF(f)\n",
    "                text = \"\\n\\n\".join(pdf)\n",
    "\n",
    "                data.append([pdf_id, text, class_name])\n",
    "                pdf_id += 1\n",
    "\n",
    "    with open(output_csv, mode='w', newline='', encoding='utf-8') as file:\n",
    "        writer = csv.writer(file)\n",
    "        writer.writerow([\"id\", \"text\", \"class\"])\n",
    "        writer.writerows(data)\n",
    "    \n",
    "    end_total_time = time.time()\n",
    "    total_time = end_total_time - start_total_time\n",
    "\n",
    "    return total_time\n"
   ]
  },
  {
   "cell_type": "code",
   "execution_count": 73,
   "metadata": {},
   "outputs": [],
   "source": [
    "def process_pdfs_tika(base_directory, output_csv):\n",
    "    start_total_time = time.time()\n",
    "    data = []\n",
    "    pdf_id = 1\n",
    "\n",
    "    for subdir, _, files in os.walk(base_directory):\n",
    "        class_name = os.path.basename(subdir)\n",
    "\n",
    "        for filename in files:\n",
    "            if filename.endswith(\".pdf\"):\n",
    "                pdf_path = os.path.join(subdir, filename)\n",
    "                \n",
    "                raw = parser.from_file(pdf_path)\n",
    "                text = raw['content'].strip() if raw and raw.get('content') else ''\n",
    "\n",
    "                if text:\n",
    "                    data.append([pdf_id, text, class_name])\n",
    "                    pdf_id += 1\n",
    "\n",
    "    with open(output_csv, mode='w', newline='', encoding='utf-8') as file:\n",
    "        writer = csv.writer(file)\n",
    "        writer.writerow([\"id\", \"text\", \"class\"])\n",
    "        writer.writerows(data)\n",
    "    \n",
    "    end_total_time = time.time()\n",
    "    total_time = end_total_time - start_total_time\n",
    "\n",
    "    return total_time\n"
   ]
  },
  {
   "cell_type": "code",
   "execution_count": 74,
   "metadata": {},
   "outputs": [],
   "source": [
    "def plot_execution_times(results):\n",
    "    libraries = [result[0] for result in results]\n",
    "    times = [result[1] for result in results]\n",
    "    sorted_data = sorted(zip(libraries, times), key=lambda x: x[1])\n",
    "    libraries_sorted, times_sorted = zip(*sorted_data)\n",
    "    plt.figure(figsize=(10, 6))\n",
    "    colors = plt.cm.viridis(np.linspace(0, 1, len(libraries_sorted)))\n",
    "    bars = plt.bar(libraries_sorted, times_sorted, color=colors)\n",
    "    for bar, time in zip(bars, times_sorted):\n",
    "        yval = bar.get_height()\n",
    "        plt.text(bar.get_x() + bar.get_width()/2, yval, f'{time:.2f} s', ha='center', va='bottom', fontsize=8)\n",
    "    plt.xticks(rotation=45)\n",
    "    plt.tight_layout()\n",
    "    plt.show()"
   ]
  },
  {
   "cell_type": "code",
   "execution_count": 75,
   "metadata": {},
   "outputs": [],
   "source": [
    "results = []"
   ]
  },
  {
   "cell_type": "code",
   "execution_count": 76,
   "metadata": {},
   "outputs": [],
   "source": [
    "timemu = process_pdfs_pymupdf(\"../model_training/helpers/data\", \"output_pymupdf.csv\")\n",
    "results.append(('pymupdf', timemu))"
   ]
  },
  {
   "cell_type": "markdown",
   "metadata": {},
   "source": [
    "timefium = process_pdfs_pypdfium2(\"../model_training/helpers/data\", \"output_pypdfium2.csv\")\n",
    "results.append(('pypdfium2', timefium))\n"
   ]
  },
  {
   "cell_type": "markdown",
   "metadata": {},
   "source": [
    "\n",
    "timepdfto = process_pdfs_pdftotext(\"../model_training/helpers/data\", \"output_pdftotext.csv\")\n",
    "results.append(('pdftotext', timepdfto))\n",
    "\n"
   ]
  },
  {
   "cell_type": "markdown",
   "metadata": {},
   "source": [
    "timetika = process_pdfs_tika(\"../model_training/helpers/data\", \"output_tika.csv\")\n",
    "results.append(('tika', timetika))\n"
   ]
  },
  {
   "cell_type": "code",
   "execution_count": 77,
   "metadata": {},
   "outputs": [
    {
     "name": "stderr",
     "output_type": "stream",
     "text": [
      "/home/vini/Documentos/cv-indexing/.venv/lib/python3.12/site-packages/pypdfium2/_helpers/textpage.py:80: UserWarning: get_text_range() call with default params will be implicitly redirected to get_text_bounded()\n",
      "  warnings.warn(\"get_text_range() call with default params will be implicitly redirected to get_text_bounded()\")\n"
     ]
    }
   ],
   "source": [
    "timefium = process_pdfs_pypdfium2(\"../model_training/helpers/data\", \"output_pypdfium2.csv\")\n",
    "results.append(('pypdfium2', timefium))"
   ]
  },
  {
   "cell_type": "code",
   "execution_count": 78,
   "metadata": {},
   "outputs": [],
   "source": [
    "timepdfto = process_pdfs_pdftotext(\"../model_training/helpers/data\", \"output_pdftotext.csv\")\n",
    "results.append(('pdftotext', timepdfto))"
   ]
  },
  {
   "cell_type": "code",
   "execution_count": 79,
   "metadata": {},
   "outputs": [],
   "source": [
    "timetika = process_pdfs_tika(\"../model_training/helpers/data\", \"output_tika.csv\")\n",
    "results.append(('tika', timetika))"
   ]
  },
  {
   "cell_type": "code",
   "execution_count": 82,
   "metadata": {},
   "outputs": [],
   "source": [
    "timeract = process_pdfs_textract(\"../model_training/helpers/data\", \"output_textract.csv\")\n",
    "results.append(('textract', timeract))"
   ]
  },
  {
   "cell_type": "code",
   "execution_count": 83,
   "metadata": {},
   "outputs": [
    {
     "data": {
      "image/png": "[encoded data removed]",
      "text/plain": [
       "<Figure size 1000x600 with 1 Axes>"
      ]
     },
     "metadata": {},
     "output_type": "display_data"
    }
   ],
   "source": [
    "plot_execution_times(results)"
   ]
  }
 ],
 "metadata": {
  "kernelspec": {
   "display_name": "Python 3 (ipykernel)",
   "language": "python",
   "name": "python3"
  },
  "language_info": {
   "codemirror_mode": {
    "name": "ipython",
    "version": 3
   },
   "file_extension": ".py",
   "mimetype": "text/x-python",
   "name": "python",
   "nbconvert_exporter": "python",
   "pygments_lexer": "ipython3",
   "version": "3.12.3"
  }
 },
 "nbformat": 4,
 "nbformat_minor": 4
}
