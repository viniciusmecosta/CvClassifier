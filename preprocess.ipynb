{
 "cells": [
  {
   "cell_type": "code",
   "execution_count": 31,
   "metadata": {},
   "outputs": [],
   "source": [
    "import nltk\n",
    "from nltk.corpus import stopwords\n",
    "from nltk.tokenize import word_tokenize\n",
    "from nltk.stem import WordNetLemmatizer\n",
    "import pandas as pd\n",
    "\n"
   ]
  },
  {
   "cell_type": "code",
   "execution_count": 32,
   "metadata": {},
   "outputs": [
    {
     "name": "stderr",
     "output_type": "stream",
     "text": [
      "[nltk_data] Downloading package punkt to /home/vini/nltk_data...\n",
      "[nltk_data]   Package punkt is already up-to-date!\n",
      "[nltk_data] Downloading package stopwords to /home/vini/nltk_data...\n",
      "[nltk_data]   Package stopwords is already up-to-date!\n",
      "[nltk_data] Downloading package wordnet to /home/vini/nltk_data...\n",
      "[nltk_data]   Package wordnet is already up-to-date!\n"
     ]
    }
   ],
   "source": [
    "nltk.download('punkt')\n",
    "nltk.download('stopwords')\n",
    "nltk.download('wordnet')\n",
    "lemmatizer = WordNetLemmatizer()\n",
    "stop_words = set(stopwords.words('english'))"
   ]
  },
  {
   "cell_type": "code",
   "execution_count": 33,
   "metadata": {},
   "outputs": [],
   "source": [
    "class_mapping = {\n",
    "    'ACCOUNTANT': 0,\n",
    "    'ADVOCATE': 1,\n",
    "    'AGRICULTURE': 2,\n",
    "    'APPAREL': 3,\n",
    "    'ARTS': 4,\n",
    "    'AUTOMOBILE': 5,\n",
    "    'AVIATION': 6,\n",
    "    'BANKING': 7,\n",
    "    'BPO': 8,\n",
    "    'BUSINESS-DEVELOPMENT': 9,\n",
    "    'CHEF': 10,\n",
    "    'CONSTRUCTION': 11,\n",
    "    'CONSULTANT': 12,\n",
    "    'DESIGNER': 13,\n",
    "    'DIGITAL-MEDIA': 14,\n",
    "    'ENGINEERING': 15,\n",
    "    'FINANCE': 16,\n",
    "    'FITNESS': 17,\n",
    "    'HEALTHCARE': 18,\n",
    "    'HR': 19,\n",
    "    'INFORMATION-TECHNOLOGY': 20,\n",
    "    'PUBLIC-RELATIONS': 21,\n",
    "    'SALES': 22,\n",
    "    'TEACHER': 23\n",
    "}"
   ]
  },
  {
   "cell_type": "code",
   "execution_count": 34,
   "metadata": {},
   "outputs": [],
   "source": [
    "def remove_stopwords_and_lemmatize(text):\n",
    "    tokens = word_tokenize(text.lower())\n",
    "    tokens_lemmatized = [lemmatizer.lemmatize(token) for token in tokens if token not in stop_words]\n",
    "    return ' '.join(tokens_lemmatized)"
   ]
  },
  {
   "cell_type": "code",
   "execution_count": 35,
   "metadata": {},
   "outputs": [],
   "source": [
    "def map_classes(input_csv, class_mapping):\n",
    "    df = pd.read_csv(input_csv)\n",
    "    df['class'] = df['class'].map(class_mapping)\n",
    "    df.to_csv(input_csv, index=False)\n",
    "    print(f'Arquivo CSV com classes mapeadas salvo em {input_csv}')\n",
    "    \n",
    "    category_counts = df['class'].value_counts().sort_index()\n",
    "    for category_id, count in category_counts.items():\n",
    "        category_name = next(key for key, value in class_mapping.items() if value == category_id)\n",
    "        print(f\"{category_name} = {count}\")"
   ]
  },
  {
   "cell_type": "code",
   "execution_count": 36,
   "metadata": {},
   "outputs": [],
   "source": [
    "def process_csv(input_csv):\n",
    "    df = pd.read_csv(input_csv, encoding='utf-8')\n",
    "    df = df[df['text'].apply(lambda x: x.strip() != '')]\n",
    "    df['text'] = df['text'].apply(remove_stopwords_and_lemmatize)\n",
    "    df.to_csv(input_csv, index=False, encoding='utf-8')\n",
    "    print(f'Arquivo CSV processado salvo em {input_csv}')"
   ]
  },
  {
   "cell_type": "code",
   "execution_count": 37,
   "metadata": {},
   "outputs": [
    {
     "name": "stdout",
     "output_type": "stream",
     "text": [
      "Arquivo CSV com classes mapeadas salvo em csv/output.csv\n",
      "ACCOUNTANT = 118\n",
      "ADVOCATE = 118\n",
      "AGRICULTURE = 63\n",
      "APPAREL = 97\n",
      "ARTS = 103\n",
      "AUTOMOBILE = 36\n",
      "AVIATION = 117\n",
      "BANKING = 115\n",
      "BPO = 22\n",
      "BUSINESS-DEVELOPMENT = 120\n",
      "CHEF = 118\n",
      "CONSTRUCTION = 112\n",
      "CONSULTANT = 115\n",
      "DESIGNER = 107\n",
      "DIGITAL-MEDIA = 96\n",
      "ENGINEERING = 118\n",
      "FINANCE = 118\n",
      "FITNESS = 117\n",
      "HEALTHCARE = 115\n",
      "HR = 110\n",
      "INFORMATION-TECHNOLOGY = 120\n",
      "PUBLIC-RELATIONS = 111\n",
      "SALES = 116\n",
      "TEACHER = 102\n"
     ]
    }
   ],
   "source": [
    "input_csv = 'csv/output.csv'\n",
    "map_classes(input_csv, class_mapping)"
   ]
  },
  {
   "cell_type": "code",
   "execution_count": 38,
   "metadata": {},
   "outputs": [
    {
     "name": "stdout",
     "output_type": "stream",
     "text": [
      "Arquivo CSV processado salvo em csv/output.csv\n"
     ]
    }
   ],
   "source": [
    "process_csv(input_csv)\n"
   ]
  }
 ],
 "metadata": {
  "kernelspec": {
   "display_name": ".venv",
   "language": "python",
   "name": "python3"
  },
  "language_info": {
   "codemirror_mode": {
    "name": "ipython",
    "version": 3
   },
   "file_extension": ".py",
   "mimetype": "text/x-python",
   "name": "python",
   "nbconvert_exporter": "python",
   "pygments_lexer": "ipython3",
   "version": "3.12.3"
  }
 },
 "nbformat": 4,
 "nbformat_minor": 2
}
